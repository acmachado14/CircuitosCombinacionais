{
  "nbformat": 4,
  "nbformat_minor": 0,
  "metadata": {
    "colab": {
      "name": "Cópia de TP03-Valgrind Simulador de Cache COLAB.ipynb",
      "provenance": [],
      "collapsed_sections": [],
      "toc_visible": true,
      "include_colab_link": true
    },
    "kernelspec": {
      "name": "python3",
      "display_name": "Python 3"
    }
  },
  "cells": [
    {
      "cell_type": "markdown",
      "metadata": {
        "id": "view-in-github",
        "colab_type": "text"
      },
      "source": [
        "<a href=\"https://colab.research.google.com/github/acmachado14/CircuitosCombinacionais/blob/main/C%C3%B3pia_de_TP03_Valgrind_Simulador_de_Cache_COLAB.ipynb\" target=\"_parent\"><img src=\"https://colab.research.google.com/assets/colab-badge.svg\" alt=\"Open In Colab\"/></a>"
      ]
    },
    {
      "cell_type": "markdown",
      "metadata": {
        "id": "RAQEhS3SxSRw"
      },
      "source": [
        "# Valgrind e  Simulação de Cache: **Cachegrind**\n"
      ]
    },
    {
      "cell_type": "markdown",
      "metadata": {
        "id": "m6xj7BkeMOzf"
      },
      "source": [
        "## Inicialização\n",
        "\n",
        "Primeiro, configurar o laboratório."
      ]
    },
    {
      "cell_type": "code",
      "metadata": {
        "id": "mibTjp3bOJl_",
        "colab": {
          "base_uri": "https://localhost:8080/"
        },
        "outputId": "faef75c3-b421-486a-b0b5-dd3e8595767a"
      },
      "source": [
        "!pip install git+https://github.com/canesche/nvcc4jupyter.git\n",
        "!git clone https://github.com/canesche/nvcc4jupyter\n",
        "%load_ext nvcc_plugin"
      ],
      "execution_count": null,
      "outputs": [
        {
          "output_type": "stream",
          "name": "stdout",
          "text": [
            "Looking in indexes: https://pypi.org/simple, https://us-python.pkg.dev/colab-wheels/public/simple/\n",
            "Collecting git+https://github.com/canesche/nvcc4jupyter.git\n",
            "  Cloning https://github.com/canesche/nvcc4jupyter.git to /tmp/pip-req-build-flg954yb\n",
            "  Running command git clone -q https://github.com/canesche/nvcc4jupyter.git /tmp/pip-req-build-flg954yb\n",
            "Building wheels for collected packages: ColabPlugin\n",
            "  Building wheel for ColabPlugin (setup.py) ... \u001b[?25l\u001b[?25hdone\n",
            "  Created wheel for ColabPlugin: filename=ColabPlugin-blind-py3-none-any.whl size=12727 sha256=deb3ff31922822fc4c5e8fb29a39273f8f750089263046678bb809dfbea3076f\n",
            "  Stored in directory: /tmp/pip-ephem-wheel-cache-veubq6vp/wheels/06/76/5f/88825d3256ab9fe9e4386e23ad33a2c41a2e4dc94f0addff44\n",
            "\u001b[33m  WARNING: Built wheel for ColabPlugin is invalid: Metadata 1.2 mandates PEP 440 version, but 'blind' is not\u001b[0m\n",
            "Failed to build ColabPlugin\n",
            "Installing collected packages: ColabPlugin\n",
            "    Running setup.py install for ColabPlugin ... \u001b[?25l\u001b[?25hdone\n",
            "\u001b[33m  DEPRECATION: ColabPlugin was installed using the legacy 'setup.py install' method, because a wheel could not be built for it. A possible replacement is to fix the wheel build issue reported above. You can find discussion regarding this at https://github.com/pypa/pip/issues/8368.\u001b[0m\n",
            "Successfully installed ColabPlugin-blind\n",
            "Cloning into 'nvcc4jupyter'...\n",
            "remote: Enumerating objects: 1147, done.\u001b[K\n",
            "remote: Counting objects: 100% (362/362), done.\u001b[K\n",
            "remote: Compressing objects: 100% (271/271), done.\u001b[K\n",
            "remote: Total 1147 (delta 100), reused 328 (delta 74), pack-reused 785\u001b[K\n",
            "Receiving objects: 100% (1147/1147), 35.71 MiB | 24.84 MiB/s, done.\n",
            "Resolving deltas: 100% (554/554), done.\n"
          ]
        }
      ]
    },
    {
      "cell_type": "markdown",
      "metadata": {
        "id": "JThIBQbJncuj"
      },
      "source": [
        "## Cache de inicialização do sistema\n",
        "\n",
        "Valgrind quando simula a cache ele também simula a inicialização do sistema.\n",
        "Então para conseguir comparar os resultados corretamente caso a diferença entre a inicialização do sistema e seu teste seja pequeno deve fazer com que o algoritmo trabalhe mais vezes."
      ]
    },
    {
      "cell_type": "code",
      "metadata": {
        "colab": {
          "base_uri": "https://localhost:8080/"
        },
        "id": "A7mmbG0An4uq",
        "outputId": "c9c7d676-fe1e-4666-989a-27fa6456c4e2"
      },
      "source": [
        "%%cachegrind --D1=1024,8,32 --I1=32768,2,32 --LL=65536,2,32 --file\n",
        "\n",
        "int main(int argc, char const *argv[]) {\n",
        "  //# Código vazio\n",
        "}"
      ],
      "execution_count": null,
      "outputs": [
        {
          "output_type": "stream",
          "name": "stdout",
          "text": [
            "\n",
            "I1  miss rate:      0.09%\n",
            "LLi miss rate:      0.09%\n",
            "\n",
            "D   refs:      1,203,251  (771,955 rd   + 431,296 wr)\n",
            "D1  misses:      286,881  (222,602 rd   +  64,279 wr)\n",
            "LLd misses:       48,111  ( 21,279 rd   +  26,832 wr)\n",
            "D1  miss rate:      23.8% (   28.8%     +    14.9%  )\n",
            "LLd miss rate:       4.0% (    2.8%     +     6.2%  )\n",
            "\n",
            "LL refs:         290,449  (226,170 rd   +  64,279 wr)\n",
            "LL misses:        51,612  ( 24,780 rd   +  26,832 wr)\n",
            "LL miss rate:        1.0% (    0.5%     +     6.2%  )\n"
          ]
        }
      ]
    },
    {
      "cell_type": "markdown",
      "metadata": {
        "id": "0jtIuYs8pM7j"
      },
      "source": [
        "# Variando o tamanho da Cache e visualizando falhas e taxa de falhas\n",
        "\n",
        "A extensão **\\%\\%rangecachegrind** executa várias vezes com tamanhos de cache especificados pela lista **datacache=(4,8,16,32)**, em Kbytes. O usuário especifica a associatividade (**ways**) e o tamanho do linha  (**line**), os gráficos são gerados de forma automática."
      ]
    },
    {
      "cell_type": "markdown",
      "source": [
        "# Teste base:\n",
        "Utilizando os dados de Datacache ways e line basicos temos o seguinte resultado para o algoritmo otimizado de multiplicação de matrizes:"
      ],
      "metadata": {
        "id": "W4qOdCuHkpxi"
      }
    },
    {
      "cell_type": "code",
      "metadata": {
        "id": "b96CrTPcOk1k",
        "colab": {
          "base_uri": "https://localhost:8080/",
          "height": 312
        },
        "outputId": "77428b12-dac6-45ec-aedd-dc44571f0514"
      },
      "source": [
        "%%rangecachegrind datacache=(1,2,4,8,16); ways=2; line=32; bargraph=(misses)\n",
        "\n",
        "#include <stdio.h>\n",
        "#include <stdlib.h>\n",
        "#include <time.h>\n",
        "\n",
        "#define tamanho 100\n",
        "\n",
        "int main(){\n",
        "    int matriz1[tamanho][tamanho], matriz2[tamanho][tamanho];\n",
        "\n",
        "    int matrizResultado[tamanho][tamanho];\n",
        "    for (int i = 0; i < tamanho; i++){\n",
        "        for (int j = 0; j < tamanho; j++){\n",
        "            matriz1[i][j] = rand() % 10;\n",
        "            matriz2[i][j] = rand() % 10;\n",
        "            matrizResultado[i][j] = 0;\n",
        "        }\n",
        "    }\n",
        "\n",
        "    for(int i = 0; i < tamanho; i++){\n",
        "        for(int k = 0; k < tamanho; k++){\n",
        "            for(int j = 0; j < tamanho; j++){\n",
        "                matrizResultado[i][j] = matrizResultado[i][j] + matriz1[i][k] * matriz2[k][j];\n",
        "            }\n",
        "        }\n",
        "    }\n",
        "}"
      ],
      "execution_count": null,
      "outputs": [
        {
          "output_type": "stream",
          "name": "stdout",
          "text": [
            "\n"
          ]
        },
        {
          "output_type": "display_data",
          "data": {
            "text/plain": [
              "<Figure size 432x288 with 1 Axes>"
            ],
            "image/png": "[encoded data removed]"
          },
          "metadata": {
            "needs_background": "light"
          }
        }
      ]
    },
    {
      "cell_type": "markdown",
      "metadata": {
        "id": "iOJHvvB8QVNi"
      },
      "source": [
        "# Tarefa\n",
        "\n",
        "Variando os valores da cache de dados, ways e a lines e comparando resultados."
      ]
    },
    {
      "cell_type": "markdown",
      "source": [
        "# Teste 01 -\n",
        "Valores utilizados:\n",
        "\n",
        "**Datacache**: 8,32,64,512,1024;\n",
        "\n",
        "**Ways**: 8\n",
        "\n",
        "**Line**: 64"
      ],
      "metadata": {
        "id": "k9U9YkXDlBTj"
      }
    },
    {
      "cell_type": "code",
      "metadata": {
        "id": "kzoHkecaQVpY",
        "outputId": "2d94f251-be4c-4856-8c76-760d8b107ffc",
        "colab": {
          "base_uri": "https://localhost:8080/",
          "height": 312
        }
      },
      "source": [
        "%%rangecachegrind datacache=(8,32,64,512,1024); ways=8; line=64; bargraph=(misses)\n",
        "\n",
        "#include <stdio.h>\n",
        "#include <stdlib.h>\n",
        "#include <time.h>\n",
        "\n",
        "#define tamanho 100\n",
        "\n",
        "int main(){\n",
        "    int matriz1[tamanho][tamanho], matriz2[tamanho][tamanho];\n",
        "\n",
        "    int matrizResultado[tamanho][tamanho];\n",
        "    for (int i = 0; i < tamanho; i++){\n",
        "        for (int j = 0; j < tamanho; j++){\n",
        "            matriz1[i][j] = rand() % 10;\n",
        "            matriz2[i][j] = rand() % 10;\n",
        "            matrizResultado[i][j] = 0;\n",
        "        }\n",
        "    }\n",
        "\n",
        "    for(int i = 0; i < tamanho; i++){\n",
        "        for(int k = 0; k < tamanho; k++){\n",
        "            for(int j = 0; j < tamanho; j++){\n",
        "                matrizResultado[i][j] = matrizResultado[i][j] + matriz1[i][k] * matriz2[k][j];\n",
        "            }\n",
        "        }\n",
        "    }\n",
        "\n",
        "    return 0;\n",
        "}"
      ],
      "execution_count": null,
      "outputs": [
        {
          "output_type": "stream",
          "name": "stdout",
          "text": [
            "\n"
          ]
        },
        {
          "output_type": "display_data",
          "data": {
            "text/plain": [
              "<Figure size 432x288 with 1 Axes>"
            ],
            "image/png": "[encoded data removed]"
          },
          "metadata": {
            "needs_background": "light"
          }
        }
      ]
    },
    {
      "cell_type": "markdown",
      "source": [
        "# Teste 02 -\n",
        "Valores utilizado:\n",
        "\n",
        "**Datacache**: 8,1024,5000;\n",
        "\n",
        "**Ways**: 2\n",
        "\n",
        "**Line**: 32"
      ],
      "metadata": {
        "id": "xeUVEtM2oVCA"
      }
    },
    {
      "cell_type": "code",
      "metadata": {
        "outputId": "e7e5c6e6-a600-417e-91b7-6145a4bb8695",
        "colab": {
          "base_uri": "https://localhost:8080/",
          "height": 312
        },
        "id": "Eff2nvSIoPx0"
      },
      "source": [
        "%%rangecachegrind datacache=(1,4,1024,4096); ways=2; line=32; bargraph=(misses)\n",
        "\n",
        "#include <stdio.h>\n",
        "#include <stdlib.h>\n",
        "#include <time.h>\n",
        "\n",
        "#define tamanho 100\n",
        "\n",
        "int main(){\n",
        "    int matriz1[tamanho][tamanho], matriz2[tamanho][tamanho];\n",
        "\n",
        "    int matrizResultado[tamanho][tamanho];\n",
        "    for (int i = 0; i < tamanho; i++){\n",
        "        for (int j = 0; j < tamanho; j++){\n",
        "            matriz1[i][j] = rand() % 10;\n",
        "            matriz2[i][j] = rand() % 10;\n",
        "            matrizResultado[i][j] = 0;\n",
        "        }\n",
        "    }\n",
        "\n",
        "    for(int i = 0; i < tamanho; i++){\n",
        "        for(int k = 0; k < tamanho; k++){\n",
        "            for(int j = 0; j < tamanho; j++){\n",
        "                matrizResultado[i][j] = matrizResultado[i][j] + matriz1[i][k] * matriz2[k][j];\n",
        "            }\n",
        "        }\n",
        "    }\n",
        "\n",
        "    return 0;\n",
        "}"
      ],
      "execution_count": null,
      "outputs": [
        {
          "output_type": "stream",
          "name": "stdout",
          "text": [
            "\n"
          ]
        },
        {
          "output_type": "display_data",
          "data": {
            "text/plain": [
              "<Figure size 432x288 with 1 Axes>"
            ],
            "image/png": "[encoded data removed]"
          },
          "metadata": {
            "needs_background": "light"
          }
        }
      ]
    },
    {
      "cell_type": "markdown",
      "metadata": {
        "id": "8LfSDbzjOJdG"
      },
      "source": [
        "# Explicação dos resultados:"
      ]
    },
    {
      "cell_type": "markdown",
      "source": [
        "# Resultados do Algoritmo:\n",
        "Algoritmo otimizado de Multiplicação de matrizes\n",
        "de tamanho 100"
      ],
      "metadata": {
        "id": "490aFCbYhdVM"
      }
    },
    {
      "cell_type": "code",
      "metadata": {
        "colab": {
          "base_uri": "https://localhost:8080/"
        },
        "outputId": "f8b7286a-78a0-4715-b2fd-a610f3104508",
        "id": "W9vJBGT3hJw7"
      },
      "source": [
        "%%cachegrind --D1=1024,8,32 --I1=32768,2,32 --LL=65536,2,32 --file\n",
        "#include <stdio.h>\n",
        "#include <stdlib.h>\n",
        "#include <time.h>\n",
        "\n",
        "#define tamanho 100\n",
        "\n",
        "int main(){\n",
        "    int matriz1[tamanho][tamanho], matriz2[tamanho][tamanho];\n",
        "\n",
        "    int matrizResultado[tamanho][tamanho];\n",
        "    for (int i = 0; i < tamanho; i++){\n",
        "        for (int j = 0; j < tamanho; j++){\n",
        "            matriz1[i][j] = rand() % 10;\n",
        "            matriz2[i][j] = rand() % 10;\n",
        "            matrizResultado[i][j] = 0;\n",
        "        }\n",
        "    }\n",
        "\n",
        "    for(int i = 0; i < tamanho; i++){\n",
        "        for(int k = 0; k < tamanho; k++){\n",
        "            for(int j = 0; j < tamanho; j++){\n",
        "                matrizResultado[i][j] = matrizResultado[i][j] + matriz1[i][k] * matriz2[k][j];\n",
        "            }\n",
        "        }\n",
        "    }\n",
        "\n",
        "    return 0;\n",
        "}"
      ],
      "execution_count": null,
      "outputs": [
        {
          "output_type": "stream",
          "name": "stdout",
          "text": [
            "\n",
            "I1  miss rate:       0.01%\n",
            "LLi miss rate:       0.01%\n",
            "\n",
            "D   refs:      15,894,802  (14,263,124 rd   + 1,631,678 wr)\n",
            "D1  misses:       421,931  (   353,991 rd   +    67,940 wr)\n",
            "LLd misses:        55,968  (    25,482 rd   +    30,486 wr)\n",
            "D1  miss rate:        2.7% (       2.5%     +       4.2%  )\n",
            "LLd miss rate:        0.4% (       0.2%     +       1.9%  )\n",
            "\n",
            "LL refs:          425,529  (   357,589 rd   +    67,940 wr)\n",
            "LL misses:         59,500  (    29,014 rd   +    30,486 wr)\n",
            "LL miss rate:         0.1% (       0.0%     +       1.9%  )\n"
          ]
        }
      ]
    },
    {
      "cell_type": "markdown",
      "source": [
        "### Versão ruim\n",
        "Algoritmo de multiplicação de matrizes sem otimização de tamanho 100"
      ],
      "metadata": {
        "id": "hbcIo6Rejn0N"
      }
    },
    {
      "cell_type": "code",
      "metadata": {
        "colab": {
          "base_uri": "https://localhost:8080/"
        },
        "outputId": "e9e6d4c3-9f5f-457a-b4c1-6395bd7ace2e",
        "id": "Hqkbm4y9jhso"
      },
      "source": [
        "%%cachegrind --D1=1024,8,32 --I1=32768,2,32 --LL=65536,2,32 --file\n",
        "#include <stdio.h>\n",
        "#include <stdlib.h>\n",
        "#include <time.h>\n",
        "\n",
        "#define tamanho 100\n",
        "\n",
        "int main(){\n",
        "    int matriz1[tamanho][tamanho], matriz2[tamanho][tamanho];\n",
        "\n",
        "    int matrizResultado[tamanho][tamanho];\n",
        "    for (int i = 0; i < tamanho; i++){\n",
        "        for (int j = 0; j < tamanho; j++){\n",
        "            matriz1[i][j] = rand() % 10;\n",
        "            matriz2[i][j] = rand() % 10;\n",
        "            matrizResultado[i][j] = 0;\n",
        "        }\n",
        "    }\n",
        "\n",
        "    for(int i = 0; i < tamanho; i++){\n",
        "        for(int j = 0; j < tamanho; j++){\n",
        "            for(int k = 0; k < tamanho; k++){\n",
        "                matrizResultado[i][j] = matrizResultado[i][j] + matriz1[i][k] * matriz2[k][j];\n",
        "            }\n",
        "        }\n",
        "    }\n",
        "}"
      ],
      "execution_count": null,
      "outputs": [
        {
          "output_type": "stream",
          "name": "stdout",
          "text": [
            "\n",
            "I1  miss rate:       0.01%\n",
            "LLi miss rate:       0.01%\n",
            "\n",
            "D   refs:      15,894,802  (14,263,124 rd   + 1,631,678 wr)\n",
            "D1  misses:     1,422,125  ( 1,354,179 rd   +    67,946 wr)\n",
            "LLd misses:        56,515  (    26,029 rd   +    30,486 wr)\n",
            "D1  miss rate:        8.9% (       9.5%     +       4.2%  )\n",
            "LLd miss rate:        0.4% (       0.2%     +       1.9%  )\n",
            "\n",
            "LL refs:        1,425,723  ( 1,357,777 rd   +    67,946 wr)\n",
            "LL misses:         60,047  (    29,561 rd   +    30,486 wr)\n",
            "LL miss rate:         0.1% (       0.0%     +       1.9%  )\n"
          ]
        }
      ]
    },
    {
      "cell_type": "markdown",
      "source": [
        "### Comparação\n",
        "Como pode-se observar a diferença é bem vizível entre as duas verções onde a porcentagem de erro de D1 é 2,7% no algoritmo otimizado e é de 8,4% no ruim nos mostrando que a otimização foi feita com sucesso.\n"
      ],
      "metadata": {
        "id": "Q1DHQprCj6RI"
      }
    },
    {
      "cell_type": "code",
      "source": [
        "from google.colab import drive\n",
        "drive.mount('/content/drive')"
      ],
      "metadata": {
        "id": "Kzu4M4Hz7wNR"
      },
      "execution_count": null,
      "outputs": []
    },
    {
      "cell_type": "markdown",
      "source": [
        "# Comparação de gráficos \n",
        "Agora temos os gráficos de teste base e os com os valores:\n",
        "## Teste Base \n",
        "![Grafico_Base.png](data:image/png;base64,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)\n",
        "## Teste 01\n",
        "![Teste_01.png](data:image/png;base64,iVBORw0KGgoAAAANSUhEUgAAAZcAAAEWCAYAAACqitpwAAAABHNCSVQICAgIfAhkiAAAAAlwSFlzAAALEgAACxIB0t1+/AAAADh0RVh0U29mdHdhcmUAbWF0cGxvdGxpYiB2ZXJzaW9uMy4yLjIsIGh0dHA6Ly9tYXRwbG90bGliLm9yZy+WH4yJAAAeCUlEQVR4nO3deZRdVYHv8e9PEiAoEIYyD5JIaE3Di1EQIoSGFgWFMGjoblBohchDog208xC0H9DY2NjaorGBBiUNKDIsRIkMQh5Du5AxjCEgEiBIIkggYVKmwO/9cXY1x0pVpUhO3VtV+X3WqnXv2Wfvc/auVO7vnnP2PVe2iYiIaNIb2t2BiIgYehIuERHRuIRLREQ0LuESERGNS7hERETjEi4REdG4hEvEACTpOEk/bvE+PyrpylbuM4auhEsMGZIWSnpe0rOSnpJ0vaRPSerT37mkcZIsadjr3O/fS5or6TlJj0q6XNIuqzaK5kk6s4xrapfyk0r5xwFsn2N7j7Z0MoachEsMNR+0vT6wBXAi8BXgjP7amaTPA98FvgGMAt4CnAJM7a1dG/wWOKRzoQToh4EH2tajGNISLjEk2X7a9mzgI8A0SRMBJO0j6XZJz0h6RNJxtWa/Ko9PlaOQnSS9VdLVkp6U9ISkcySNLNvaEDgeONL2Rbb/aPtl27+w/aVSZwdJN5QjqUcl/YektTt3KOntkuZIWirpD5K+WuvP2pLOLkdi8yVNqrXbXNJPJS2R9JCkT6/kV/ILYBdJG5XlKcBdwGO1bX5c0nXlucqRzePldzWv9jvcW9I9pV+LJX2xto19Jd1RO3J8Z23dV0r9ZyXdJ2n3lfQ5BrGESwxptm8GFgF/XYr+SPUOfiSwD/APkvYr695THkfafpPtGwAB/wpsDvxvYCxwXKm3E7Au8LNeuvAK8Dlg01J/d+AIAEnrA/8P+GXZ/tuAq2ptPwScV/o6G/iP0u4NVGFxJzC6bPOzkvbspR8vABcDB5blQ4Cze6m/B9Xv4y+BDamOcp4s684APlmOECcCV5d+vQuYBXwS2AQ4DZgtaR1JWwFHAe8u7fYEFvay/xjkEi6xJvg9sDGA7Wttz7P9qu27gHOBXXtqaHuB7Tm2X7S9BPhOrf4mwBO2l/fS/lbbN9pebnsh1QtuZ/t9gcds/7vtF2w/a/umWvPrbF9m+xXgR8A2pfzdQIft422/ZPtB4Ae8Fhw9ORs4pBx57Qr8vJe6LwPrA1sDsn2v7Udr6yZI2sD2Mtu3lfLpwGm2b7L9iu2zgBeByVQhu05pN9z2Qts5JTeEJVxiTTAaWAogaUdJ15TTSU8Dn6I6quiWpFGSziunc54Bflyr/ySwaW8TACT9paRLJD1W2n+j1n4svV/zeKz2/E/AumVfWwCbl1NPT0l6Cvgq1TWfHtm+DugAvgZcYvv5XupeTXWkdDLwuKTTJW1QVv8dsDfwsKT/lrRTKd8C+EKXfo0FNre9APgs1VHf4+V3unlv/Y3BLeESQ5qkd1OFy3Wl6CdUp5jG2t4Q+E+qU18A3d0i/Bul/B22NwA+Vqt/A9U78/26adfpVOA3wPjS/qu19o8Af7EKw3oEeMj2yNrP+rb37kPbHwNfoPdTYgDYnml7e2AC1emxL5XyW2xPBd5MdfRzQa1fJ3Tp13q2zy3tfmJ7F6oQMvDN1zXqGFQSLjEkSdpA0r5U1yx+bHteWbU+sNT2C5J2AP6+1mwJ8Cp//oK/PvAc8LSk0ZQXWKgmDQDHACdL2k/SepKGS9pL0r/V2j8DPCdpa+Afatu+BNhM0mfLdYn1Je3Yh+HdDDxbLpCPkLSWpIklSFdmJvABXpu80C1J7y5HecOprlO9ALwqaW1Vn4fZ0PbLZWyvlmY/AD5V2knSG1VNoFhf0laSdpO0TtnW87V2MQQlXGKo+YWkZ6neRX+N6hrJobX1RwDHlzrH8Nq7bmz/CTgB+HU5rTMZ+GdgO+Bp4FLgovrObP878Hngn6jC6RGqC9ed1zO+SBVgz1K9+J5fa/ss1Qv9B6lOgd0PvG9lAyzXYPYFtgUeAp4Afkh14X1lbZfavsor/yKnDUp/lwEPU50C/FZZdzCwsJzm+xTw0bLtucDhVKfTlgELgI+XNutQTQ1/ooz1zcDRK+tvDF7Kl4VFRETTcuQSERGNS7hERETjEi4REdG4hEtERDTudd39dSjbdNNNPW7cuHZ3IyJiULn11lufsN3RtTzhUowbN465c+e2uxsREYOKpIe7K89psYiIaFzCJSIiGpdwiYiIxiVcIiKicQmXiIhoXMIlIiIal3CJiIjGJVwiIqJxCZeIiGhcPqHfgHEzLm13Fxqz8MR92t2FiBgCcuQSERGNS7hERETjEi4REdG4hEtERDQu4RIREY1LuEREROMSLhER0biES0RENC7hEhERjUu4RERE4xIuERHRuIRLREQ0LuESERGNS7hERETjEi4REdG4hEtERDQu4RIREY1LuEREROMSLhER0biES0RENC7hEhERjeu3cJE0S9Ljku6ulW0saY6k+8vjRqVckmZKWiDpLknb1dpMK/XvlzStVr69pHmlzUxJ6m0fERHROv155HImMKVL2QzgKtvjgavKMsBewPjyMx04FaqgAI4FdgR2AI6thcWpwOG1dlNWso+IiGiRfgsX278ClnYpngqcVZ6fBexXKz/blRuBkZI2A/YE5theansZMAeYUtZtYPtG2wbO7rKt7vYREREt0uprLqNsP1qePwaMKs9HA4/U6i0qZb2VL+qmvLd9rEDSdElzJc1dsmTJKgwnIiK607YL+uWIw+3ch+3TbU+yPamjo6M/uxIRsUZpdbj8oZzSojw+XsoXA2Nr9caUst7Kx3RT3ts+IiKiRVodLrOBzhlf04CLa+WHlFljk4Gny6mtK4A9JG1ULuTvAVxR1j0jaXKZJXZIl211t4+IiGiRYf21YUnnAu8FNpW0iGrW14nABZIOAx4GPlyqXwbsDSwA/gQcCmB7qaSvA7eUesfb7pwkcATVjLQRwOXlh172ERERLdJv4WL7oB5W7d5NXQNH9rCdWcCsbsrnAhO7KX+yu31E/xg349J2d6ExC0/cp91diBgy8gn9iIhoXMIlIiIal3CJiIjGJVwiIqJxCZeIiGhcwiUiIhqXcImIiMYlXCIionEJl4iIaFzCJSIiGpdwiYiIxiVcIiKicQmXiIhoXMIlIiIal3CJiIjGJVwiIqJxCZeIiGhcwiUiIhqXcImIiMYlXCIionEJl4iIaFzCJSIiGpdwiYiIxiVcIiKicQmXiIhoXMIlIiIal3CJiIjGtSVcJH1O0nxJd0s6V9K6kraUdJOkBZLOl7R2qbtOWV5Q1o+rbefoUn6fpD1r5VNK2QJJM1o/woiINVvLw0XSaODTwCTbE4G1gAOBbwIn2X4bsAw4rDQ5DFhWyk8q9ZA0obR7OzAFOEXSWpLWAk4G9gImAAeVuhER0SLtOi02DBghaRiwHvAosBtwYVl/FrBfeT61LFPW7y5Jpfw82y/afghYAOxQfhbYftD2S8B5pW5ERLRIy8PF9mLg28DvqELlaeBW4Cnby0u1RcDo8nw08Ehpu7zU36Re3qVNT+UrkDRd0lxJc5csWbL6g4uICKA9p8U2ojqS2BLYHHgj1WmtlrN9uu1Jtid1dHS0owsREUNSO06LvR94yPYS2y8DFwE7AyPLaTKAMcDi8nwxMBagrN8QeLJe3qVNT+UREdEi7QiX3wGTJa1Xrp3sDtwDXAPsX+pMAy4uz2eXZcr6q227lB9YZpNtCYwHbgZuAcaX2WdrU130n92CcUVERDFs5VWaZfsmSRcCtwHLgduB04FLgfMk/UspO6M0OQP4kaQFwFKqsMD2fEkXUAXTcuBI268ASDoKuIJqJtos2/NbNb6IiGhDuADYPhY4tkvxg1QzvbrWfQE4oIftnACc0E35ZcBlq9/TiIhYFfmEfkRENC7hEhERjUu4RERE4xIuERHRuIRLREQ0LuESERGNS7hERETjXle4SHqDpA36qzMRETE0rDRcJP1E0gaS3gjcDdwj6Uv937WIiBis+nLkMsH2M1Tfr3I51d2MD+7XXkVExKDWl3AZLmk4VbjMLncydv92KyIiBrO+hMtpwEKq7135laQtgGf6s1MRETG4rfTGlbZnAjNrRQ9Lel//dSkiIga7vlzQHyXpDEmXl+UJvPb9KhERESvoy2mxM6m+G2Xzsvxb4LP91aGIiBj8+hIum9q+AHgVwPZy4JV+7VVERAxqfQmXP0rahDJDTNJk4Ol+7VVERAxqffkmys9TfQf9WyX9Gujgte+6j4iIWEFfZovdJmlXYCtAwH3lsy4RERHd6stssQOAEbbnU32Q8nxJ2/V7zyIiYtDqyzWX/2v7WUm7ALsDZwCn9m+3IiJiMOtLuHTODNsH+IHtS4G1+69LEREx2PUlXBZLOg34CHCZpHX62C4iItZQfQmJD1N9iHJP208BGwO55X5ERPSoL1ORNwMutf2ipPcC7wTO7tdeRUTEoNaXI5efAq9IehtwOjAW+Em/9ioiIga1voTLq+WWL38LfN/2l6iOZiIiIrrVl3B5WdJBwCHAJaVseP91KSIiBru+hMuhwE7ACbYfkrQl8KPV2amkkZIulPQbSfdK2knSxpLmSLq/PG5U6krSTEkLJN1V/wCnpGml/v2SptXKt5c0r7SZKUmr09+IiHh9Vhoutu+x/Wnb55blh2x/czX3+z3gl7a3BrYB7gVmAFfZHg9cVZYB9gLGl5/plA9wStoYOBbYEdgBOLYzkEqdw2vtpqxmfyMi4nXoMVwkXVAe55Ujhs6feZLuWtUdStoQeA/VJ/2x/VKZ4jwVOKtUO4vqVjOU8rNduREYKWkzYE9gju2ltpcBc4ApZd0Gtm+0baqZbZ3bioiIFuhtKvJnyuO+De9zS2AJ8F+StgFuLfsaZfvRUucxYFR5Php4pNZ+USnrrXxRN+UrkDSd6miIt7zlLas+ooiI+DM9Hrl0vtDbftj2w8Ay4Nnaz6oaBmwHnGr7XcAfee0UWOe+Tfn+mP5k+3Tbk2xP6ujo6O/dRUSsMfpyV+RPSnoMuIvqKONWYO5q7HMRsMj2TWX5Qqqw+UM5pUV5fLysX0z12ZpOY0pZb+VjuimPiIgW6ctssS8CE22Ps71l+fmLVd2h7ceARyRtVYp2B+6h+kKyzhlf04CLy/PZwCFl1thk4OlyVHUFsIekjcqF/D2AK8q6ZyRNLrPEDqltKyIiWqAvt395APhTw/v9R+AcSWsDD1JNd34DcIGkw4CHqe5pBnAZsDewoPTjUADbSyV9Hbil1Dve9tLy/AjgTGAEcHn5iYiIFulLuBwNXC/pJuDFzkLbn17Vndq+A5jUzardu6lr4MgetjMLmNVN+Vxg4qr2LyIiVk9fwuU04GpgHvBq/3YnIiKGgr6Ey3Dbn+/3nkRExJDRlwv6l0uaLmmzcouWjcun4yMiIrrVlyOXg8rj0bUyA6s8YywiIoa2lYaL7S1b0ZGIiBg6+nJaLCIi4nVJuEREROMSLhER0bhVChdJWzfdkYiIGDpW9cjlykZ7ERERQ0qPs8UkzexpFTCyf7oTERFDQW9TkQ8FvkDtfmI1B3VTFhERAfQeLrcAd9u+vusKScf1W48iImLQ6y1c9gde6G5FPlgZERG96TFcat+NgqSOUrakFZ2KiIjBrcfZYuWbH4+T9ARwH/BbSUskHdO67kVExGDU21TkzwE7A++2vbHtjYAdgZ0lfa4lvYuIiEGpt3A5GDjI9kOdBbYfBD5G9b30ERER3eotXIbbfqJrYbnuMrz/uhQREYNdb+Hy0iqui4iINVxvU5G3kfRMN+UC1u2n/kRExBDQ21TktVrZkYiIGDpyy/2IiGhcwiUiIhqXcImIiMYlXCIionEJl4iIaFzbwkXSWpJul3RJWd5S0k2SFkg6X9LapXydsrygrB9X28bRpfw+SXvWyqeUsgWSZrR6bBERa7p2Hrl8Bri3tvxN4CTbbwOWAYeV8sOAZaX8pFIPSROAA4G3A1OAU0pgrQWcDOwFTAAOKnUjIqJF2hIuksYA+wA/LMsCdgMuLFXOAvYrz6eWZcr63Uv9qcB5tl8s9z9bAOxQfhbYftD2S8B5pW5ERLRIu45cvgt8GXi1LG8CPGV7eVleBIwuz0cDjwCU9U+X+v9T3qVNT+UrkDRd0lxJc5csyVfVREQ0peXhImlf4HHbt7Z6313ZPt32JNuTOjo62t2diIgho7d7i/WXnYEPSdqb6h5lGwDfA0ZKGlaOTsYAi0v9xcBYYJGkYcCGwJO18k71Nj2VR0REC7T8yMX20bbH2B5HdUH+atsfBa4B9i/VpgEXl+ezyzJl/dW2XcoPLLPJtgTGAzcDtwDjy+yztcs+ZrdgaBERUbTjyKUnXwHOk/QvwO3AGaX8DOBHkhYAS6nCAtvzJV0A3AMsB460/QqApKOAK4C1gFm257d0JBERa7i2hovta4Fry/MHqWZ6da3zAnBAD+1PAE7opvwy4LIGuxoREa9DPqEfERGNS7hERETjEi4REdG4hEtERDQu4RIREY1LuEREROMSLhER0biES0RENC7hEhERjUu4RERE4wbSvcUiBp1xMy5tdxcas/DEfdrdhRhCcuQSERGNS7hERETjEi4REdG4hEtERDQu4RIREY1LuEREROMSLhER0biES0RENC7hEhERjUu4RERE4xIuERHRuIRLREQ0LjeujIhVkpt2Rm8SLhERq2CohGt/BWtOi0VEROMSLhER0biWh4uksZKukXSPpPmSPlPKN5Y0R9L95XGjUi5JMyUtkHSXpO1q25pW6t8vaVqtfHtJ80qbmZLU6nFGRKzJ2nHkshz4gu0JwGTgSEkTgBnAVbbHA1eVZYC9gPHlZzpwKlRhBBwL7AjsABzbGUilzuG1dlNaMK6IiChaHi62H7V9W3n+LHAvMBqYCpxVqp0F7FeeTwXOduVGYKSkzYA9gTm2l9peBswBppR1G9i+0baBs2vbioiIFmjrNRdJ44B3ATcBo2w/WlY9Bowqz0cDj9SaLSplvZUv6qa8u/1PlzRX0twlS5as1lgiIuI1bQsXSW8Cfgp81vYz9XXliMP93Qfbp9ueZHtSR0dHf+8uImKN0ZZwkTScKljOsX1RKf5DOaVFeXy8lC8GxtaajyllvZWP6aY8IiJapB2zxQScAdxr+zu1VbOBzhlf04CLa+WHlFljk4Gny+mzK4A9JG1ULuTvAVxR1j0jaXLZ1yG1bUVERAu04xP6OwMHA/Mk3VHKvgqcCFwg6TDgYeDDZd1lwN7AAuBPwKEAtpdK+jpwS6l3vO2l5fkRwJnACODy8hMRES3S8nCxfR3Q0+dOdu+mvoEje9jWLGBWN+VzgYmr0c2IiFgN+YR+REQ0LuESERGNS7hERETjEi4REdG4hEtERDQu4RIREY1LuEREROMSLhER0biES0RENC7hEhERjUu4RERE4xIuERHRuIRLREQ0LuESERGNS7hERETjEi4REdG4hEtERDQu4RIREY1LuEREROMSLhER0biES0RENC7hEhERjUu4RERE4xIuERHRuIRLREQ0LuESERGNS7hERETjEi4REdG4IRsukqZIuk/SAkkz2t2fiIg1yZAMF0lrAScDewETgIMkTWhvryIi1hxDMlyAHYAFth+0/RJwHjC1zX2KiFhjyHa7+9A4SfsDU2x/oiwfDOxo+6gu9aYD08viVsB9Le3o67Mp8ES7O9FGa/L41+Sxw5o9/sEw9i1sd3QtHNaOngwUtk8HTm93P/pC0lzbk9rdj3ZZk8e/Jo8d1uzxD+axD9XTYouBsbXlMaUsIiJaYKiGyy3AeElbSlobOBCY3eY+RUSsMYbkaTHbyyUdBVwBrAXMsj2/zd1aXYPi9F0/WpPHvyaPHdbs8Q/asQ/JC/oREdFeQ/W0WEREtFHCJSIiGpdwGUAkfU7SfEl3SzpX0rqSFkratJu6r0i6Q9Kdkm6T9Fft6POqKmO7ufR/vqR/LuXnlNv23C1plqThpfw4SV/sZjtnSnqo/C5+I+nYVo9lVUgaKenC0ud7Je1UW/cFSe78dx8qYy9/y/NKf+eWsgPKv/+rkibV6n5A0q2l/q2Sdqute66bbY+T9Hzt/8T1krZqzchWVP52H5d0d61sY0lzJN1fHjcq5R+VdFcZ6/WStumyrbUk3S7pklrZgH9dSLgMEJJGA58GJtmeSDUR4cBemjxve1vb2wBHA//agm426UVgt9L/bYEpkiYD5wBbA+8ARgCf6MO2vmR727KdaZK27Kc+N+l7wC9tbw1sA9wLIGkssAfwuz5uZ7CN/X3l77YzSO4G/hb4VZd6TwAftP0OYBrwoz5s+4Ha/4mzgK821elVcCYwpUvZDOAq2+OBq8oywEPArmWsX2fFi/ifofx99MGAeV1IuAwsw4ARkoYB6wG/71whaYSkyyUd3k27DYBlLepjI1zpfAc6vPzY9mVlnYGbqT6j9GckHV5+FyO6rFq3PP6x3zreAEkbAu8BzgCw/ZLtp8rqk4AvA93OtBnsY+/K9r22V7gzhu3bbXf+/c+n+n+xTr2OpE0l3SBpn2423db/E7Z/BSztUjyVKvQoj/uVutfb7uzrjdT+5iWNAfYBftjdfgby68KQnIo8GNleLOnbVO9YnweutH2lJIA3Ud0f7WzbZ5cmIyTdQfWishmwWzebHdDKDUZvBd4GnGz7ptq64cDBVO/a6m2OAj4A7Gf7xfL7+ZakfyrbmWn78RYNYVVtCSwB/qucArmVapzvBxbbvrOM688MgbEbuFKSgdPKHTL64u+A22y/2FkgaRTVZ9f+yfYcSeOAt5b/E+tTvTnbscnON2CU7UfL88eAUd3UOQy4vLb8Xao3G+t3U3dgvy7Yzs8A+AE2Aq4GOqjexf8c+BiwELgT+GiX+s/Vnu9E9e5O7R7HKo59JHANMLFW9gPgu7Xl44C7gEuB4bXyM4H9y/M3ATcBf9XuMa1kvJOA5VT3u4PqFNm3St83LGULgU2H0tiB0eXxzeVv+j21dddSnRLu2ubtwAPAW2tlL1KdTtu1VjYOuLu2/BGq047tHG/XPj3VZf2yLsvvozr9tUlZ3hc4pTx/L3BJre6Af13IabGB4/3AQ7aX2H4ZuAjovBj3a6prEiu+nQVs30B1g7sVbh43GLg6JXQN5Rx1uTDdAXy+S9V5VP9hVzhVVrbzHNWL1C791NWmLAIW+bUjtQuB7aiOaO6UtJBqjLdJ+l+lzqAfu+3F5fFx4GdUdy/vUTkl9DPgENsP1FYtpzra27OX5rOpTj0OJH+QtBlAefyfo0xJ76Q69TXV9pOleGfgQ+Xv4TxgN0k/rm1vQL8uJFwGjt8BkyWtV/5Ydue1i3jHUJ07Pbm7hpK2ppoA8GR36wciSR2SRpbnI6hO9/xG0ieoXjQOsv1ql2a3A58EZkvavJttDqM6FfJA13UDie3HgEdqs5l2pzrt82bb42yPowqg7UpdGORjl/RGSet3PqeatHB3L/VHUh2pzbD96y6rDfwfYGtJX+lhE7sw8H4Xs6kmJ1AeLwaQ9BaqN5MH2/5tZ2XbR9seU/4eDgSutv2x2vYG9OtCwmWAKO9iLwRuo3qX+gb+fNbIZ6jOp/5bWR5RphzeAZwPTLP9Siv7vJo2A66RdBfVveDm2L4E+E+qc9E3lPEdU29k+zrgi8CltamY3yq/h7uofncXtWoQq+EfgXPK+LcFvrGyBoN87KOA6yTdSTVR41Lbv5T0N5IWUZ3CuVTSFaX+UVTXkY7p/DuX9ObOjZW/9YOo3s0fUYrf2jkNl+r32ZeZhv1C0rnADcBWkhZJOgw4EfiApPupzlScWKofA2wCnKLaNO0+GrCvC7n9S0RENC5HLhER0biES0RENC7hEhERjUu4RERE4xIuERHRuIRLRJtJ+pqqOwPfVaaR7ijph5ImtLtvEasqU5Ej2kjVrfa/A7zX1f3CNgXW9ms3bYwYlHLkEtFemwFPuNyU0fYTtn8v6VpJkyR9qPYhwvskPQQgaXtJ/63qu06u6LytSMRAkXCJaK8rgbGSfivpFEm71lfanu3q+zm2pbpR4bfLHaO/T3XTyu2BWcAJLe95RC9yy/2INrL9nKTtgb+muivu+ZJmdK0n6ctUXwR1sqSJwERgTrln4VrAo13bRLRTwiWizcq9n64FrpU0j9dubgiApPcDB/DaXX4FzLe9ExEDVE6LRbSRpK0kja8VbQs8XFu/BdVdbw+w/Xwpvg/oKJMBkDRc0ttb1eeIvsiRS0R7vQn4frnF/HJgATCd6g7ZAB+numPuz8spsN/b3lvS/sBMVV+ZPIzqGwvnt7jvET3KVOSIiGhcTotFRETjEi4REdG4hEtERDQu4RIREY1LuEREROMSLhER0biES0RENO7/A4OGT+dfUOOyAAAAAElFTkSuQmCC)\n",
        "## Teste 02\n",
        "![Teste_02.png](data:image/png;base64,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)"
      ],
      "metadata": {
        "id": "WoOezoatnldw"
      }
    },
    {
      "cell_type": "markdown",
      "source": [
        "# Análise de Gráficos\n",
        "Pode-se observar que o numero de erros de D1 ele é proporcional a Datacache disponível, variando bastante nos valores menores e quando chega a um certo ponto ela não varia tanto, independente de quanto aumenta o valor selecionado."
      ],
      "metadata": {
        "id": "7Y1Y7S5gri-9"
      }
    }
  ]
}